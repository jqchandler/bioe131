{
 "cells": [
  {
   "cell_type": "code",
   "execution_count": 3,
   "metadata": {},
   "outputs": [],
   "source": []
  },
  {
   "cell_type": "markdown",
   "metadata": {},
   "source": [
    "# Generating Phylogenic Tree"
   ]
  },
  {
   "cell_type": "markdown",
   "metadata": {},
   "source": [
    "## Align Sequences and Download Tools Needed "
   ]
  },
  {
   "cell_type": "markdown",
   "metadata": {},
   "source": [
    "In terminal we have to align the sequences using muscle:\n",
    "If you haven’t already, examine the contents of the input and output of this command. What do you notice?   \n",
    "    \n",
    "    cd lab2\n",
    "    cd bioe131 #now in the folder where I my files are\n",
    "    muscle –in seq.fa –out seq.aligned.fa \n",
    "   #use muscle to input (-in) a fasta file and output (-out) a fasta file containing metadata about alignment \n",
    "    \n",
    "Now that we have our aligned sequence file we can generate a tree: \n",
    "    \n",
    "    fasttree –nt < seq.aligned.fa > tree.nwk\n",
    "#use fasttree tool, specify aligning nucleotides (-nt), direct it to the input file containing the alignment data, then specifiy the format we want the tree to be in (nwk = newick)   \n",
    "    \n",
    "Use terminal to install BioPython:\n",
    "\n",
    "    pip3 install biopython\n",
    "   #use pip3 to install the module Bio\n",
    "\n",
    "\n"
   ]
  },
  {
   "cell_type": "markdown",
   "metadata": {},
   "source": [
    "## Drawing the Tree"
   ]
  },
  {
   "cell_type": "code",
   "execution_count": 97,
   "metadata": {
    "scrolled": true
   },
   "outputs": [
    {
     "name": "stdout",
     "output_type": "stream",
     "text": [
      " , hu.39\n",
      " |\n",
      " | rh.50\n",
      " |\n",
      " , rh.57\n",
      " |\n",
      " | rh.51\n",
      " |\n",
      " | rh.49\n",
      " |\n",
      "_, rh.53\n",
      " |\n",
      " | rh.64\n",
      " |\n",
      " , rh.61\n",
      " |\n",
      " |, rh.58\n",
      " ||\n",
      " ||                              , pi.2\n",
      " ||          ____________________|\n",
      " ||         |                    |, pi.3\n",
      " ||         |                    ||\n",
      " ||         |                     | pi.1\n",
      " ||         |\n",
      " ||         |           , rh.10\n",
      " ||        _|          ,|\n",
      " ||       | |          ||, bb.1\n",
      " ||       | |          |||\n",
      " ||       | |   _______| | bb.2\n",
      " ||       | |  |       |\n",
      " ||       | |  |       | _ hu.17\n",
      " ||       | |  |       ||\n",
      " ||       | |__|        | hu.6\n",
      " ||       |    |\n",
      " ||       |    |    ______ rh.2\n",
      " ||       |    |   |\n",
      " ||       |    |___|         __ rh.40\n",
      " ||       |        |        |\n",
      " ||       |        |________|, hu.67\n",
      " ||       |                 ||\n",
      " ||       |                 |, hu.37\n",
      " ||       |                  |\n",
      " ||       |                  |, hu.40\n",
      " ||       |                  ||\n",
      " ||       |                  || hu.66\n",
      " ||       |                  ||\n",
      " ||       |                   , hu.41\n",
      " ||       |                   |\n",
      " ||       |                   | rh.38\n",
      " ||       |                   |\n",
      " ||       |                   | hu.42\n",
      " ||       |\n",
      " ||_______|                                        , cy.3\n",
      " |        |                                        |\n",
      " |        |                          ______________, cy.6\n",
      " |        |                         |              |\n",
      " |        |                         |              | cy.4\n",
      " |        |                         |              |\n",
      " |        |                _________|              , cy.5\n",
      " |        |               |         |              |\n",
      " |        |               |         |              | rh.13\n",
      " |        |               |         |\n",
      " |        |               |         |       , rh.35\n",
      " |        |            ___|         |_______|\n",
      " |        |           |   |                 , rh.36\n",
      " |        |           |   |                 |\n",
      " |        |           |   |                 | rh.37\n",
      " |        |           |   |\n",
      " |        |           |   |         ______ cy.2\n",
      " |        |           |   |________|\n",
      " |        |           |            |     __ rh.54\n",
      " |        |    _______|            |____|\n",
      " |        |   |       |                 |      __ rh.55\n",
      " |        |   |       |                 |_____|\n",
      " |        |   |       |                       | , rh.48\n",
      " |        |   |       |                       |_|\n",
      " |        |   |       |                         | rh.62\n",
      " |        |   |       |\n",
      " |        |   |       |                                _ hu.43\n",
      " |        |   |       |_______________________________|\n",
      " |        |___|                                       | , hu.48\n",
      " |            |                                       |_|\n",
      " |            |                                         |      , hu.44\n",
      " |            |                                         |______|\n",
      " |            |                                                | hu.46\n",
      " |            |\n",
      " |            |                                                   _ hu.14\n",
      " |            |     _____________________________________________|\n",
      " |            |    |                                             |  , hu.31\n",
      " |            |____|                                             |__|\n",
      " |                 |                                                | hu.32\n",
      " |                 |\n",
      " |                 |_______________ rh.43\n",
      " |\n",
      " | rh.52\n",
      "\n"
     ]
    }
   ],
   "source": [
    "#using Bio.phylo to draw a phylogenic tree:\n",
    "from Bio import SeqIO\n",
    "from Bio.SeqRecord import SeqRecord\n",
    "from Bio.Seq import Seq\n",
    "\n",
    "from Bio import Phylo\n",
    "\n",
    "%matplotlib inline \n",
    "#allows us to plot in the cell\n",
    "\n",
    "tree = Phylo.read(\"tree.nwk\", \"newick\") #use read function from Phylo module that has two arguments: \n",
    "                                        #file_object_name and format\n",
    "\n",
    "Phylo.draw_ascii(tree) #Phylo.draw() function allows the tree to be drawn \n",
    "#decided to use _ascii because I can read the sequence names better to idenify smaples in the clusters"
   ]
  },
  {
   "cell_type": "markdown",
   "metadata": {},
   "source": [
    "### Analyzing the Tree: \n",
    "The samples hu.39, rh.50, rh.57, rh.51, rh.49, rh.53, rh.64 seem to all be outliers from the tree. They were used in analysis, but dont seem to be very far evolutionary from most of the samples. \n",
    "\n",
    "It seems that there was an early evolutionary split that seperate the two other clusters. \n",
    "\n",
    "The bottom cluster seems to have more evolutionary distance from the other clusters, and also has another evolutionary split early in their history, splitting the clade into sub-clades \n",
    "\n",
    "rh.52 seems to be another outgroup from the rest of the samples."
   ]
  },
  {
   "cell_type": "markdown",
   "metadata": {},
   "source": [
    "# Identifying Sequences by BLAST: "
   ]
  },
  {
   "cell_type": "code",
   "execution_count": 73,
   "metadata": {},
   "outputs": [],
   "source": [
    "#get an arbitrary representitive taxon from following clusters: \n",
    "\n",
    "#top cluster: hu.39, middle: bb.1, bottom: cy.2  \n",
    "\n",
    "#print sequences:\n",
    "my_recs = []\n",
    "for seq_rec in SeqIO.parse(\"seq.fa\", \"fasta\"):\n",
    "    my_recs.append(seq_rec)"
   ]
  },
  {
   "cell_type": "code",
   "execution_count": 84,
   "metadata": {
    "collapsed": true
   },
   "outputs": [
    {
     "name": "stdout",
     "output_type": "stream",
     "text": [
      "atggctgccgatggttatcttccagattggctcgaggacaacctctctgagggcattcgcgagtggtgggacctgaaacctggagccccgaaacccaaagccaaccagcaaaagcaggacgacggccggggtctggtgcttcctggctacaagtacctcggacccttcaacggactcgacaagggggagcccgtcaacgcggcggacgcagcggccctcgagcacgacaaggcctacgaccagcagctcaaagcgggtgacaatccgtacctgcggtataatcacgccgacgccgagtttcaggagcgtctgcaagaagatacgtcttttgggggcaacctcgggcgagcagtcttccaggccaagaagcgggttctcgaacctctcggtctggttgaggaaggcgctaagacggctcctggaaagaagagaccggtagagccgtcaccacagcgttcccccgactcctccacgggcatcggcaagaaaggccagcagcccgccagaaagagactcaatttcggtcggactggcgactcagagtcagtccccgaccctcaacctatcggagaacctccagcagcgccctctagtgtgggatctggtacaatggctgcaggcggtggcgcaccaatggcagacaataacgaaggtgccgacggagtgggtagttcctcgggaaattggcattgcgattccacatggctgggcgacagagttatcaccaccagcacccgaacctgggccctgcccacctacaacaaccacctctacaagcaaatctccaacgggacctcgggaggcagcaccaacgacaacacctactttggctacagcaccccctgggggtatcttgactttaacagattccactgccacttctcaccacgtgactggcagcgactcatcaacaacaactggggattccggcccaagagactcagcttcaagctcttcaacatccaggtcaaagaggtcacgcagaatgaaggcaccaagaccatcgccaataacctcgccagcaccatccaggtgtttacggactcggaataccagccgccgtacgtcctcggctctgcccaccagggctgcctgcctccgttcccggcggacgtcttcatgattcctcagtacggctacctgactctcaacaacggtagtcaggccgtgggacgttcctccttctactgcctggagtacttcccctctcagatgctgagaacgggcaacaacttttccttcagctacactttcgaggacgtgcctttccacagcagctacgcgcacagccagagtttggacaggctgatgaatcctctcatcgaccagtacctgtactacctgtcaagaacccagtctacgggaggcacagcgggaacccagcagttgctgttttctcgggccgggcctagcaacatgtcggctcaggccagaaactggctgcctggaccctgctacagacagcagcgcgtctccacgacactgtcgcaaaacaacaacagcaactttgcctggactggtgccaccaagtatcatctgaacggcagagactctctggtgaatccgggcgtcgccatggcaaccaacaaggacgacgaggaccgcttcttcccatccagcggcatcctcatgtttggcaagcagggagctggaaaagacaacgtggactatagcaacgtgatgctaaccagcgaggaagaaatcaagaccaccaaccccgtggccacagaacagtatggcgtggtggctgataacctacagcagcaaaacaccgctcctactgtgggggccgtcaacagccagggagccttacctggcatggtctggcagaaccgggacgtgtacctgcagggtcctatttgggccaagattcctcacacagatggcaactttcacccgtctcctttaatgggcggctttggacttaaacatccgcctcctcagatcctcatcaaaaacactcctgttcctgcggatcctccaacagcgttcaaccaggccaagctgaattctttcatcgcgcagtacagcaccggacaagtcagcgtggagatcgagtgggagctgcagaaggagaacagcaagcgctggaacccagagattcagtatacttccaactactacaaatctacaaatgcggactttgctgttaatactgagggtgtttactctgagcctcgccccattggcactcgttacctcacccgtaatctgtaa\n"
     ]
    }
   ],
   "source": [
    "print(my_recs[12].seq) #hu.39\n"
   ]
  },
  {
   "cell_type": "code",
   "execution_count": 75,
   "metadata": {
    "collapsed": true
   },
   "outputs": [
    {
     "name": "stdout",
     "output_type": "stream",
     "text": [
      "atggctgccgatggttatcttccagattggctcgaggacaacctctctgagggcattcgcgagtggtgggcgctgaaacctggagccccgaagcccaaagccaaccagcaaaagcaggacgacggccggggtctggtgcttcctggctacaagtacctcggacccttcaacggactcgacaagggggagcccgtcaacgcggcggacgcagcggccctcgagcacgacaaggcctacgaccagcagctcaaagcgggtgacaatccgtacctgcggtataaccacgccgacgccgagtttcaggagcgtctgcaagaagatacgtcttttgggggcaacctcggacgagcagtcttccaggccaagaagcgggttctcgaacctctcggtctggttgaggaaggcgctaagacggctcctggaaagaagagaccggtagagccatcaccccagcgttctccagactccactacgggcatcggcaagaaaggccagcagcccgcgaaaaagagactcaactttgggcagactggcgactcagagtcagtgcccgaccctcaaccaatcggagaaccccccgcaggcccctctggtctgggatctggtacaatggctgcaggcggtggcgctccaatggcagacaataacgaaggcgccgacggagtgggtagttcctcaggaaattggcattgcgattccacatggctgggcgacagagtcatcaccaccagcacccgaacctgggccctccccacctacaacaaccacctctacaagcaaatctccaacgggacttcgggaggaagcaccaacgacaacacctacttcggctacagcaccccctgggggtattttgactttaacagattccactgccacttctcaccacgtgactggcagcgactcatcaacaacaactggggattccggcccaagagactcaacttcaagctcttcaacatccaggtcaaggaggtcacgcagaatgaaggcaccaagaccatcgccaataaccttaccagcacgattcaggtctttacggactcggaataccagctcccgtacgtcctcggctctgcgcgccagggctgcctgcctccgttcccggcggacgtcttcatgattcctcagtacgggtacctgactctgaacaatggcagtcaggccgtgggccgttcctccttctactgcctggagtactttccttctcaaatgctgagaacgggcaacaactttgagttcagctaccagtttgaggacgtgccttttcacagcagctacgcgcacagccaaagcctggaccggctgatgaaccccctcatcgaccagtacctgtactacctgtctcggactcagtccacgggaggtaccgcaggaactcagcagttgctattttctcaggccgggcctaataacatgtcggctcaggccaaaaactggctacccgggccctgctaccggcagcaacgcgtctccacgacactgtcgcaaaataacaacagcaactttgcctggaccggtgccaccaagtatcatctgaatggcagagactctctggtaaatcccggtgtcgctatggcaacccacaaggacgacgaagagcgattttttccgtccagcggagtcttaatgtttgggaaacagggagctggaaaaggcaacgtggactatagcagcgttatgctaaccagtgaggaagaaattaaaaccaccaacccagtggccacagaacagtacggcgtggtggccgataacctgcaacagcaaaacgccgctcctattgtaggggccgtcaacagtcaaggagccttacctggcatggtctggcagaaccgggacgtgtacctgcagggtcctatctgggccaagattcctcacacggacggaaactttcatccctcgccgctgatggggggctttggactgaaacacccgcctcctcagatcctgattaagaatacacctgttcccgcggatcctccaactaccttcagtcaagctaagctggcgtcgttcatcacgcagtacagcaccggacaggtcagcgtggaaattgaatgggagctgcagaaagaaaacagcaaacgctggaacccagagattcaatacacttccaactactacaaatctacaaatgtggactttgctgttaacacagatggcacttattctgagcctcgccccatcggcacccgttacctcacccgtaatctgtaa\n"
     ]
    }
   ],
   "source": [
    "print(my_recs[0].seq) #bb.1"
   ]
  },
  {
   "cell_type": "code",
   "execution_count": 76,
   "metadata": {
    "collapsed": true
   },
   "outputs": [
    {
     "name": "stdout",
     "output_type": "stream",
     "text": [
      "atggctgccgatggttatcttccagattggctcgaggacaacctctctgagggcattcgcgagtggtgggacctgaaacctggagccccgaaacccaaagccaaccagcaaaagcaggacaacggccggggtctggtgcttcctggctacaagtacctcggacccttcaacggactcgacaagggggagcccgtcaacgcggcggacgcagcggccctcgagcacgacaaggcctacgaccagcagctcaatgcgggtgacaacccgtacctgcggtataaccacgccgacgccgagtttcaggagcgtctgcaagaagatacgtcatttgggggcaacctcgggcgagcagtcttccaggccaagaagcgggttctcgaacctctcggtctggttgaggaaggcgctaagacggctcctgcaaagaagagaccggtagagccgtcacctcagcgttcccccgactcctccacgggcatcggcaagaagggccagcagcccgccagaaagagactcaatttcggtcagactggcgactcagagtcagtccccgaccctcaacctctcggagaacctccagcagcgccctctagtgtgggatctggtacagtggctgcaggcggtggcgcaccaatggcagacaataacgaaggtgccgacggagtgggtaatgcctcaggaaattggcattgcgattccacatggctgggcgacagagtcattaccaccagcacccgaacctgggccctgcccacctacaacaaccacctctacgagcaaatctccagtgaaactgcaggtagtaccaacgacaacacctacttcggctacagcaccccctgggggtattttgactttaacagattccactgccacttctcaccacgtgactggcagcgactcatcaacaacaactggggattccggcccaagaagctgcggttcaagctcttcaacatccaggtcaaggaggtcacgacgaatgacggcgttacgaccatcgctaataaccttaccagcacgattcaggtattctcggactcggaataccagctgccgtacgtcctcggctctgcgcaccagggctgcctgcctccgttcccggcggacgtcttcatgattcctcagtacggctacctgactctcaacaatggcagtcagtctgtgggacgttcctccttctactgcctggagtacttcccctctcagatgctgagaacgggcaacaactttgagttcagctacagcttcgaggacgtgcctttccacagcagctacgcacacagccagagcctggaccggctgatgaatcccctcatcgaccagtacttgtactacctggccagaacacagagtgacccaggaggcacagctggcaatcgggaactgcagttttaccagggcgggccttcaactatggccgaacaagccaagaattggttacctggaccctgcttccggcaacaaagggtctccaaaacgctggatcaaaacaacaacagcaactttgcttggactggtgccaccaaatatcacctgaacggcagaaactcgttggttaatcccggcgtcgccatggcaactcacaaggacgacgaggaccgctttttcccatccagcggagtcctgatttttggaaaaactggagcaactaacaaaactacattggaaaatgtgttaatgacaaatgaagaagaaattcgtcctactaatcctgtagccacggaagaatacgggatagtcagcagcaacttacaagcggctaatactgcagcccagacacaagttgtcaacaaccagggagccttacctggcatggtctggcagaaccgggacgtgtacctgcagggtcccatctgggccaagattcctcacacggatggcaactttcacccgtctcctttgatgggcggctttggacttaaacatccgcctcctcagatcctgatcaagaacactcccgttcccgctaatcctccggaggtgtttactcctgccaagtttgcttcgttcatcacacagtacagcaccggacaagtcagcgtggaaatcgagtgggagctgcagaaggaaaacagcaagcgctgggacccggagattcagtacacctccaactttgaaaagcagactggtgtggactttgccgttgacagccagggtgtttactctgagcctcgccctattggcactcgttacctcacccgtaatctgtaa\n"
     ]
    }
   ],
   "source": [
    "print(my_recs[2].seq) #cy.2"
   ]
  },
  {
   "cell_type": "markdown",
   "metadata": {},
   "source": [
    "### Blasting the Representitive Sequences in Blastn\n",
    "\n",
    "#### Top Cluster\n",
    "hu.39: Adeno-associated virus isolate hu.39 capsid protein VP1 (cap) gene, complete cds; Adeno-associated virus isolate rh.64R1 capsid protein VP1 gene, partial cds; Adeno-associated virus isolate rh.64 capsid protein VP1 (cap) gene, complete cds \n",
    "\n",
    "#### Middle Cluster\n",
    "bb.1: Non-human primate Adeno-associated virus isolate AAVbb.1 capsid protein (VP1) gene, complete cds; Non-human primate Adeno-associated virus isolate AAVbb.2 capsid protein (VP1) gene, complete cds; Non-human primate Adeno-associated virus isolate AAVrh.10 capsid protein (VP1) gene, complete cds\n",
    "\n",
    "#### Bottom Cluster\n",
    "cy.2: Non-human primate Adeno-associated virus isolate AAVcy.2 capsid protein (VP1) gene, complete cds; Adeno-associated virus 7 nonstructural protein and capsid protein genes, complete cds; Adeno-associated virus isolate Anc113 capsid protein (VP1) gene, complete cds\n",
    "\n",
    "They all seem to be from Adeno-associated virus gene from viruses that infect different hosts. They are all caspid genes. None of the samples we entered into BLAST were a different virus/gene.\n",
    "\n",
    "We may not trust the BLAST annotations because a few of the genes that we matched were incomplete coding sequences, therefore the annotations may not be accurate due to the missing sections "
   ]
  },
  {
   "cell_type": "markdown",
   "metadata": {},
   "source": [
    "Notebook: \n",
    "\n",
    "Copy and paste any terminal commands you used into a Markdown section and explain what the input was, what the tool did, and what the output was. Plot any results in-line and explain them.\n",
    "\n",
    "An iPython notebook containing youranalysis is due at the beginning of lab section next week. Please upload your .ipynb file to bCourses."
   ]
  },
  {
   "cell_type": "markdown",
   "metadata": {},
   "source": [
    "# Calculating Sequence Statistics for Clusters"
   ]
  },
  {
   "cell_type": "markdown",
   "metadata": {},
   "source": [
    "## Barplots of GC and AT probability for position"
   ]
  },
  {
   "cell_type": "code",
   "execution_count": null,
   "metadata": {},
   "outputs": [],
   "source": [
    "#calculate at content of aligned sequences\n",
    "aseqs= \"seq.aligned.fa\"\n",
    "alignedseq = []\n",
    "for seq in SeqIO.parse(\"seq.aligned.fa\", \"fasta\"):\n",
    "    alignedseq.append(seq)\n",
    "\n",
    "#Functions to return the percentange of samples with an a/t or g/t at a specific nt position \n",
    "dictofsamples = SeqIO.to_dict(SeqIO.parse(\"seq.aligned.fa\", \"fasta\"))\n",
    "def at_content(listofsamples, position_num):\n",
    "    count = 0\n",
    "    length = len(listofsamples)\n",
    "    for name in listofsamples:\n",
    "        temp = dictofsamples[name].seq\n",
    "        if temp[position_num] == 'A' or temp[position_num] == 'T':\n",
    "            count += 1\n",
    "    return count / length\n",
    "\n",
    "def gc_content(listofsamples, position_num):\n",
    "    return 1 - at_content(listofsamples, position_num)"
   ]
  },
  {
   "cell_type": "markdown",
   "metadata": {},
   "source": [
    "### Top Cluster Analysis"
   ]
  },
  {
   "cell_type": "code",
   "execution_count": 88,
   "metadata": {},
   "outputs": [
    {
     "data": {
      "text/plain": [
       "Text(0,0.5,'%AT or %GC')"
      ]
     },
     "execution_count": 88,
     "metadata": {},
     "output_type": "execute_result"
    },
    {
     "data": {
      "image/png": "[encoded data removed]",
      "text/plain": [
       "<Figure size 432x288 with 1 Axes>"
      ]
     },
     "metadata": {},
     "output_type": "display_data"
    }
   ],
   "source": [
    "#TOP CLUSTER ANALYSIS\n",
    "from Bio import SeqIO\n",
    "from Bio.SeqRecord import SeqRecord\n",
    "from Bio.Seq import Seq\n",
    "#indexed samples of top\n",
    "topcluster = [\"hu.39\", \"rh.50\", \"rh.57\",\"rh.51\", 'rh.49', \n",
    "              \"rh.53\", 'rh.64', \"rh.61\", 'rh.58']\n",
    "\n",
    "#Functions to return the percentange of samples with an a/t or g/t at a specific nt position \n",
    "dictofsamples = SeqIO.to_dict(SeqIO.parse(\"seq.aligned.fa\", \"fasta\"))\n",
    "def at_content(listofsamples, position_num):\n",
    "    count = 0\n",
    "    length = len(listofsamples)\n",
    "    for name in listofsamples:\n",
    "        temp = dictofsamples[name].seq\n",
    "        if temp[position_num] == 'A' or temp[position_num] == 'T':\n",
    "            count += 1\n",
    "    return count / length\n",
    "\n",
    "def gc_content(listofsamples, position_num):\n",
    "    return 1 - at_content(listofsamples, position_num)\n",
    "\n",
    "#generate data for barplot top\n",
    "\n",
    "tpos_list= range(1,len(dictofsamples[\"hu.39\"].seq)\n",
    "\n",
    "pat_top= [at_content(topcluster, x) for x in tpos_list]\n",
    "pgc_top = [gc_content(topcluster, x) for x in tpos_list]\n",
    "\n",
    "#graph data \n",
    "import matplotlib.pyplot as plt\n",
    "%matplotlib inline\n",
    "\n",
    "#Top Cluster\n",
    "attop_out = plt.bar (tpos_list, pat_top, 1)\n",
    "gctop_out = plt.bar(tpos_list,pgc_top, 1, bottom= pat_top)\n",
    "plt.xlabel(\"Position in Sequence\") \n",
    "plt.ylabel(\"%AT or %GC\")\n",
    "\n",
    "\n",
    "\n"
   ]
  },
  {
   "cell_type": "markdown",
   "metadata": {},
   "source": [
    "### Analysis of Top AT-GC Content:\n",
    "\n",
    "It seems that the sequences are very similar because the bases seem to be all AT or GC."
   ]
  },
  {
   "cell_type": "markdown",
   "metadata": {},
   "source": [
    "### Middle Cluster Analysis"
   ]
  },
  {
   "cell_type": "code",
   "execution_count": 93,
   "metadata": {},
   "outputs": [
    {
     "data": {
      "text/plain": [
       "Text(0,0.5,'%AT or %GC')"
      ]
     },
     "execution_count": 93,
     "metadata": {},
     "output_type": "execute_result"
    },
    {
     "data": {
      "image/png": "[encoded data removed]",
      "text/plain": [
       "<Figure size 432x288 with 1 Axes>"
      ]
     },
     "metadata": {},
     "output_type": "display_data"
    }
   ],
   "source": [
    "#MIDDLE CLUSTER ANALYSIS\n",
    "from Bio import SeqIO\n",
    "from Bio.SeqRecord import SeqRecord\n",
    "from Bio.Seq import Seq\n",
    "#indexed samples of middle\n",
    "middlecluster = ['pi.2', 'pi.3', 'pi.1', 'rh.10', 'bb.1',\n",
    "                 'bb.2', 'hu.17', 'hu.6', 'rh.2', 'rh.40',\n",
    "                 'hu.67', 'hu.37', 'hu.40', 'hu.66', 'hu.41',\n",
    "                 'rh.38', 'hu.42']\n",
    "\n",
    "#Functions to return the percentange of samples with an a/t or g/t at a specific nt position \n",
    "dictofsamples = SeqIO.to_dict(SeqIO.parse(\"seq.aligned.fa\", \"fasta\"))\n",
    "def at_content(listofsamples, position_num):\n",
    "    count = 0\n",
    "    length = len(listofsamples)\n",
    "    for name in listofsamples:\n",
    "        temp = dictofsamples[name].seq\n",
    "        if temp[position_num] == 'A' or temp[position_num] == 'T':\n",
    "            count += 1\n",
    "    return count / length\n",
    "\n",
    "def gc_content(listofsamples, position_num):\n",
    "    return 1 - at_content(listofsamples, position_num)\n",
    "\n",
    "#generate data for barplot middle\n",
    "mpos_list= range(1,len(dictofsamples[\"pi.2\"].seq))\n",
    "\n",
    "pat_middle = [at_content(middlecluster, x) for x in mpos_list]\n",
    "pgc_middle = [gc_content(middlecluster, x) for x in mpos_list]\n",
    "\n",
    "#graph data \n",
    "import matplotlib.pyplot as plt\n",
    "%matplotlib inline\n",
    "\n",
    "atmiddle_out = plt.bar (mpos_list, pat_middle, 1)\n",
    "gcmiddle_out = plt.bar(mpos_list,pgc_middle, 1, bottom= pat_middle)\n",
    "plt.xlabel(\"Position in Sequence\") \n",
    "plt.ylabel(\"%AT or %GC\")\n"
   ]
  },
  {
   "cell_type": "markdown",
   "metadata": {},
   "source": [
    "### Analysis of Middle AT-GC Content:\n",
    "\n",
    "There is greater variation in AT or GC in this cluster, but the very begining seems to be conserved"
   ]
  },
  {
   "cell_type": "markdown",
   "metadata": {},
   "source": [
    "### Bottom Cluster Analysis"
   ]
  },
  {
   "cell_type": "code",
   "execution_count": 92,
   "metadata": {},
   "outputs": [
    {
     "data": {
      "text/plain": [
       "Text(0,0.5,'%AT or %GC')"
      ]
     },
     "execution_count": 92,
     "metadata": {},
     "output_type": "execute_result"
    },
    {
     "data": {
      "image/png": "[encoded data removed]",
      "text/plain": [
       "<Figure size 432x288 with 1 Axes>"
      ]
     },
     "metadata": {},
     "output_type": "display_data"
    }
   ],
   "source": [
    "#BOTTOM CLUSTER ANALYSIS\n",
    "from Bio import SeqIO\n",
    "from Bio.SeqRecord import SeqRecord\n",
    "from Bio.Seq import Seq\n",
    "#indexed samples of bottom\n",
    "bottomcluster= ['cy.3', 'cy.6', 'cy.4', 'cy.5', 'rh.13',\n",
    "                'rh.35', 'rh.36', 'rh.37', 'cy.2', 'rh.54',\n",
    "                'rh.55', 'rh.48', 'rh.62', 'hu.43', 'hu.48',\n",
    "                'hu.44', 'hu.46', 'hu.14', 'hu.31', 'hu.32',\n",
    "                'rh.43', 'rh.52']\n",
    "\n",
    "#Functions to return the percentange of samples with an a/t or g/t at a specific nt position \n",
    "dictofsamples = SeqIO.to_dict(SeqIO.parse(\"seq.aligned.fa\", \"fasta\"))\n",
    "def at_content(listofsamples, position_num):\n",
    "    count = 0\n",
    "    length = len(listofsamples)\n",
    "    for name in listofsamples:\n",
    "        temp = dictofsamples[name].seq\n",
    "        if temp[position_num] == 'A' or temp[position_num] == 'T':\n",
    "            count += 1\n",
    "    return count / length\n",
    "\n",
    "def gc_content(listofsamples, position_num):\n",
    "    return 1 - at_content(listofsamples, position_num)\n",
    "\n",
    "#generate data for barplot bottom\n",
    "bpos_list= range(1,2217) #checked with code further down to find that this was the longest sequence in this cluster\n",
    "\n",
    "pat_bottom = [at_content(bottomcluster, x) for x in bpos_list]\n",
    "pgc_bottom = [gc_content(bottomcluster, x) for x in bpos_list]\n",
    "\n",
    "#graph data \n",
    "import matplotlib.pyplot as plt\n",
    "%matplotlib inline\n",
    "\n",
    "atbottom_out = plt.bar (bpos_list, pat_bottom, 1)\n",
    "gcbottom_out = plt.bar(bpos_list,pgc_bottom, 1, bottom= pat_bottom)\n",
    "\n",
    "plt.xlabel(\"Position in Sequence\") \n",
    "plt.ylabel(\"%AT or %GC\")"
   ]
  },
  {
   "cell_type": "markdown",
   "metadata": {},
   "source": [
    "### Analysis of Bottom AT-GC Content:\n",
    "\n",
    "There seems to be a higher content of AT in these samples than the other clusters, but positions seem to be pretty conserved on wether AT or GC."
   ]
  },
  {
   "cell_type": "markdown",
   "metadata": {},
   "source": [
    "## Boxplots of Cluster Sequence Length"
   ]
  },
  {
   "cell_type": "code",
   "execution_count": 71,
   "metadata": {},
   "outputs": [
    {
     "data": {
      "image/png": "[encoded data removed]",
      "text/plain": [
       "<Figure size 432x288 with 1 Axes>"
      ]
     },
     "metadata": {},
     "output_type": "display_data"
    }
   ],
   "source": [
    "#generate a boxplot of sequence lengths:\n",
    "\n",
    "from Bio import SeqIO\n",
    "from Bio.SeqRecord import SeqRecord\n",
    "from Bio.Seq import Seq\n",
    "\n",
    "#generating a dictionary with sequence names and sequences even though parsing and using record.seq prob would work \n",
    "id_seqs = {}\n",
    "names = []\n",
    "seqs = []\n",
    "\n",
    "f = open(\"seq.aligned.fa\", 'r')\n",
    "for line in f:\n",
    "    if line.startswith('>'):\n",
    "        names.append(line[1:-1])\n",
    "f.close()\n",
    "\n",
    "for record in SeqIO.parse(\"seq.aligned.fa\", \"fasta\"):\n",
    "    seqs.append(record.seq)\n",
    "id_seqs = dict(zip(names, seqs))\n",
    "\n",
    "#generating data by finding the length of the sequences in each cluster\n",
    "\n",
    "#function that finds the length of each sequence in a cluster\n",
    "def len_of(cluster, id_seq_dict):\n",
    "    listlen = []\n",
    "    for idname in cluster:\n",
    "        matchid = id_seq_dict[idname]\n",
    "        count = matchid.count('A') + matchid.count('T') + matchid.count('G') + matchid.count('C')\n",
    "        listlen.append(count)\n",
    "    return listlen\n",
    "\n",
    "topcluster = [\"hu.39\", \"rh.50\", \"rh.57\",\"rh.51\", 'rh.49', \n",
    "              \"rh.53\", 'rh.64', \"rh.61\", 'rh.58']\n",
    "middlecluster = ['pi.2', 'pi.3', 'pi.1', 'rh.10', 'bb.1',\n",
    "                 'bb.2', 'hu.17', 'hu.6', 'rh.2', 'rh.40',\n",
    "                 'hu.67', 'hu.37', 'hu.40', 'hu.66', 'hu.41',\n",
    "                 'rh.38', 'hu.42']\n",
    "bottomcluster= ['cy.3', 'cy.6', 'cy.4', 'cy.5', 'rh.13',\n",
    "                'rh.35', 'rh.36', 'rh.37', 'cy.2', 'rh.54',\n",
    "                'rh.55', 'rh.48', 'rh.62', 'hu.43', 'hu.48',\n",
    "                'hu.44', 'hu.46', 'hu.14', 'hu.31', 'hu.32',\n",
    "                'rh.43', 'rh.52']\n",
    "\n",
    "\n",
    "#running each sample group through the function        \n",
    "top = len_of(topcluster, id_seqs)  \n",
    "middle = len_of(middlecluster, id_seqs)  \n",
    "bottom = len_of(bottomcluster, id_seqs)  \n",
    "\n",
    "\n",
    "#graphing data\n",
    "\n",
    "import matplotlib.pyplot as plt\n",
    "%matplotlib inline\n",
    "\n",
    "#list of data to be plugged into boxplot\n",
    "data = [top, middle, bottom]\n",
    "\n",
    "plt.boxplot(data)\n",
    "\n",
    "plt.xlabel(\"Cluster\") \n",
    "plt.ylabel(\"Sequence Length\")\n",
    "\n",
    "plt.show()\n",
    "\n",
    "\n"
   ]
  },
  {
   "cell_type": "markdown",
   "metadata": {},
   "source": [
    "### Analysis of Sequence Length Boxplot:\n",
    "\n",
    "The fist cluster is a line because all the sequences are the same length. \n",
    "\n",
    "The second cluster is a line with one outlier because all the sequences are the same length except for one.\n",
    "\n",
    "The third cluster has an adverage between 2210-2215 nucleotides and a pretty large spread, but it seems more sequences are longer than shorter. The minimum sequence is less than 2190 nt long, and the max is greater than 2215."
   ]
  }
 ],
 "metadata": {
  "kernelspec": {
   "display_name": "Python 3",
   "language": "python",
   "name": "python3"
  },
  "language_info": {
   "codemirror_mode": {
    "name": "ipython",
    "version": 3
   },
   "file_extension": ".py",
   "mimetype": "text/x-python",
   "name": "python",
   "nbconvert_exporter": "python",
   "pygments_lexer": "ipython3",
   "version": "3.6.5"
  }
 },
 "nbformat": 4,
 "nbformat_minor": 2
}

{
 "cells": [
  {
   "cell_type": "markdown",
   "metadata": {},
   "source": [
    "# Lab 5: RNAfold/plot and Using the Subprocess Module"
   ]
  },
  {
   "cell_type": "markdown",
   "metadata": {},
   "source": [
    "## Grab Sequences from Penchovsky and Breaker "
   ]
  },
  {
   "cell_type": "markdown",
   "metadata": {},
   "source": [
    "Please copy down the sequences for the YES-1 riboswitch from Figure 2a, the NOT-1 riboswitch in Figure 4a, the AND-1riboswitch in Figure 5a, and the OR-1 riboswitch in Figure 6a.For each riboswitch, produce a table in your iPython notebook that contains the following information: \n",
    " 1. riboswitch name \n",
    " 2. start and end coordinates of OBS-1 (blue region) \n",
    " 3. start and end coordinates of OBS-2 (blue region, only applicable to AND-1 and OR-1) \n",
    " 4. start and end coordinates of the two red regions\n"
   ]
  },
  {
   "cell_type": "markdown",
   "metadata": {},
   "source": [
    "YES-1: (Figure 2a)\n",
    "seq:GGGCGACCCUGAUGAGCUUGAGUUUAGCUCGUCACUGUCCAGGUUCAAUCAGGCGAAACGGUGAAAGCCGUAGGUUGCCC \n",
    "OBS: 26-47\n",
    "Red regions: 16-21, 49-54\n",
    "\n",
    "NOT-1: (Figure 4a)\n",
    "seq:GGCAGGUACAUACAGCUGAUGAGUCCCAAAUAGGACGAAACGCGACACACACCACUAAACCGUGCAGUGUUUUGCGUCCUGUAUUCCACUGC\n",
    "OBS: 44-66\n",
    "Red regions: 40-43, 74-77\n",
    "\n",
    "AND-1: (Figure 5a)\n",
    "seq:GGGCGACCCUGAUGAGCUUGGUUUAGUAUUUACAGCUCCAUACAUGAGGUGUUAUCCCUAUGCAAGUUCGAUCAGGC GAAACGGUGAAAGCCGUAGGUUGCCCAGAGACAAU\n",
    "OBS1: 30-45\n",
    "OBS2: 49-64\n",
    "Red regions: 16-23, 70-77\n",
    "\n",
    "OR-1: (Figure 6a)\n",
    "seq:GGGCGACCCCUGAUGGCUUGGUUGAGUAUUUACAGCUCCAUAUACAUGAGGUGUUCUCCCUACGCAAGUUCGAUCAGGCGAAACGGUGAAAGCCGUAGGUUGCCC\n",
    "OBS1: 26-4 \n",
    "OBS2: 47-66\n",
    "Red regions: 16-26, 67-77"
   ]
  },
  {
   "cell_type": "markdown",
   "metadata": {},
   "source": [
    "## Now, write a routine to fold RNA: "
   ]
  },
  {
   "cell_type": "raw",
   "metadata": {},
   "source": [
    "Have a look at the example in the lecture slides and use it to design a routinethat runs the RNAfold command from within Python. Make sure you can getit to run in a terminal first. If it doesn’t run in a terminal, it won’t run in Python! Don’t forget to add some new lines at the end of your input, and an @ symbol to tell RNAfold you’re finished. Please put the resulting images you generate into Markdown sections of your iPython notebook!\n",
    "\n",
    "NOTE: If you find it easier to run RNAfold from a terminal, that’s fine, but make sure you provide a working function in your iPython notebook that calls RNAfold to demonstrate your understanding of the subprocess module."
   ]
  },
  {
   "cell_type": "markdown",
   "metadata": {},
   "source": [
    "### Check that RNAfold works in Terminal\n",
    "Trying it out in Terminal:\n",
    "\n",
    "    be131-04@ip-172-30-0-167:~$ cd Lab_5\n",
    "    be131-04@ip-172-30-0-167:~/Lab_5$ RNAfold\n",
    "\n",
    "Terminal Returns: \n",
    "Input string (upper or lower case); @ to quit\n",
    "....,....1....,....2....,....3....,....4....,....5....,....6....,....7....,....8\n",
    "\n",
    "Pasted in the following sequence below the numbers: GGGCGACCCUGAUGAGCUUGAGUUUAGCUCGUCACUGUCCAGGUUCAAUCAGGCGAAACGGUGAAAGCCGUAGGUUGCCC@ - the at-sign (@) is needed to tell the software to stop\n",
    "\n",
    "Terminal Returns: \n",
    "GGGCGACCCUGAUGAGCUUGAGUUUAGCUCGUCACUGUCCAGGUUCAAUCAGGCGAAACGGUGAAAGCCGUAGGUUGCCC@\n",
    "((((((((.(((((((((.......))))))))).((.((.(((...))).))))..(((((....))))).)))))))).\n",
    " minimum free energy = -33.80 kcal/mol\n",
    "\n",
    "Input string (upper or lower case); @ to quit\n",
    "....,....1....,....2....,....3....,....4....,....5....,....6....,....7....,....8\n",
    "\n",
    "I fold a file called rna.ps in my Lab_5 directory"
   ]
  },
  {
   "cell_type": "markdown",
   "metadata": {},
   "source": [
    "### Run RNAfold commands from within Python"
   ]
  },
  {
   "cell_type": "code",
   "execution_count": 12,
   "metadata": {},
   "outputs": [],
   "source": [
    "Y1_seq = \"GGGCGACCCUGAUGAGCUUGAGUUUAGCUCGUCACUGUCCAGGUUCAAUCAGGCGAAACGGUGAAAGCCGUAGGUUGCCC@\"\n",
    "\n",
    "import subprocess\n",
    "\n",
    "p = subprocess.run('RNAfold', \n",
    "                   input= bytes(Y1_seq, 'ascii'),\n",
    "                   stdout= subprocess.PIPE,\n",
    "                   stderr= subprocess.PIPE)\n",
    "\n",
    "#print(p.stderr.decode())\n",
    "#print(p.stdout.decode())"
   ]
  },
  {
   "cell_type": "markdown",
   "metadata": {},
   "source": [
    "print(p.stderr.decode()) = nothing\n",
    "\n",
    "print(p.stdout.decode())=GGGCGACCCUGAUGAGCUUGAGUUUAGCUCGUCACUGUCCAGGUUCAAUCAGGCGAAACGGUGAAAGCCGUAGGUUGCCC@\n",
    "((((((((.(((((((((.......))))))))).((.((.(((...))).))))..(((((....))))).)))))))). (-33.80)"
   ]
  },
  {
   "cell_type": "code",
   "execution_count": 33,
   "metadata": {},
   "outputs": [
    {
     "name": "stdout",
     "output_type": "stream",
     "text": [
      "ERROR: structure missing for record 0\n",
      "\n",
      "\n",
      "\n"
     ]
    },
    {
     "name": "stderr",
     "output_type": "stream",
     "text": [
      "UsageError: Line magic function `%show` not found.\n"
     ]
    }
   ],
   "source": [
    "rnafile = open('rna.ps')\n",
    "rnar= rnafile.read()\n",
    "foldrna= \"GGGCGACCCUGAUGAGCUUGAGUUUAGCUCGUCACUGUCCAGGUUCAAUCAGGCGAAACGGUGAAAGCCGUAGGUUGCCC@/n((((((((.(((((((((.......))))))))).((.((.(((...))).))))..(((((....))))).)))))))). (-33.80)\"\n",
    "p = subprocess.run('RNAplot', \n",
    "                   input= bytes(foldrna, 'ascii'),\n",
    "                   stdout= subprocess.PIPE,\n",
    "                   stderr= subprocess.PIPE)\n",
    "print(p.stderr.decode())\n",
    "print(p.stdout.decode())"
   ]
  },
  {
   "cell_type": "code",
   "execution_count": 43,
   "metadata": {},
   "outputs": [
    {
     "name": "stdout",
     "output_type": "stream",
     "text": [
      "Y1_0001_ss.pdf\n"
     ]
    }
   ],
   "source": [
    "file='Y1_0001_ss.ps'\n",
    "\n",
    "import os\n",
    "import glob\n",
    "for f in glob.glob('Y1_0001_ss.ps'):\n",
    "    os.system('ps2pdf '+f+' '+f[0:-3]+'.pdf')\n"
   ]
  },
  {
   "cell_type": "markdown",
   "metadata": {},
   "source": [
    "[Yes gate]!(https://bio.nixt.org:8000/user/be131-04/files/Lab_5/Y1_0001_ss.pdf)\n"
   ]
  },
  {
   "cell_type": "markdown",
   "metadata": {},
   "source": [
    "## The meat of the assignment:"
   ]
  },
  {
   "cell_type": "markdown",
   "metadata": {},
   "source": [
    "Once you have confirmed that your RNAfold routine works and is generating images (check for rna.ps in yourcurrent working directory), begin folding the riboswitches.\n",
    "1. Start by generating one plot per riboswitch (YES-1, NOT-1, AND-1, and OR-1) with default parameters. Compare each plot to the native conformation given in the publication. \n",
    "     Are they the same? Are they different? Are there any stem-loop structures that don’t match up?Whatmight explain the differences? See if you can track down the parameters the authors used and compare them to the default RNAfold parameters (e.g., temperature, algorithm, etc).Don’t kill yourself comparing every last base position to the paper, but do give us a general idea about the presence of stem-loops and whether the red regions have bound each other.\n",
    "2. Next, simulate OBS binding in YES-1 and NOT-1. The idea here is that we’d like to see what conformation these riboswitches adopt when their target OBS is bound.To simulate OBS binding, we tell RNAfold to prevent the blue OBS region (that we noted down in our table above) from pairing to any other region of the riboswitch.To do this, we pass the –C parameter to RNAfold using a file which you will have to generate.\n",
    "\n",
    "        RNAfold –C YES-1_contraints.txt\n",
    "    \n",
    "    The YES-1_contraints.txtfile should containone letter for each base inYES-1. Use a dot (“.”) for every unconstrained base, and a lower-case xfor every base that you want to prevent from pairing. That is to say, put an x at every base spanning the blue OBS region.Now, fold YES-1 again with constraints and see what you get. Does it look like the self-cleaving form of YES-1 in Figure 2? Are the red regions bound to each other? Do the same for NOT-1.\n",
    "3. Simulating OBS binding for AND-1 and OR-1 is more complicated. Recall that AND and OR logic gates have two inputs, and so their truth tables have four rows: F/F, T/F, F/T, and T/T.In part (1) we simulated the F/F case, and so now mustsimulate the other three.This will require you to produce three constraintfiles for AND-1, and three for OR-1.One file will have OBS-1 x’d out, another will have OBS-2 x’d out, and the third will have both OBS-1 and OBS-2x’d out.\n",
    "    Produce the constraint files, run RNAfold, and compare the output files to the paper.Determine whether the red regions (which you noted in your table above) pair with each other for each of the four possible input combinations. Generate a truth table for the AND-1 and the OR-1 riboswitches based on your results. "
   ]
  },
  {
   "cell_type": "code",
   "execution_count": null,
   "metadata": {},
   "outputs": [],
   "source": []
  },
  {
   "cell_type": "markdown",
   "metadata": {},
   "source": [
    "According to your results, do the AND-1 and OR-1 riboswitches work as the paperclaims?"
   ]
  }
 ],
 "metadata": {
  "kernelspec": {
   "display_name": "Python 3",
   "language": "python",
   "name": "python3"
  },
  "language_info": {
   "codemirror_mode": {
    "name": "ipython",
    "version": 3
   },
   "file_extension": ".py",
   "mimetype": "text/x-python",
   "name": "python",
   "nbconvert_exporter": "python",
   "pygments_lexer": "ipython3",
   "version": "3.5.2"
  }
 },
 "nbformat": 4,
 "nbformat_minor": 2
}

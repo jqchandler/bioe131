{
 "cells": [
  {
   "cell_type": "markdown",
   "metadata": {},
   "source": [
    "# Read-in Datafile:"
   ]
  },
  {
   "cell_type": "code",
   "execution_count": 1,
   "metadata": {},
   "outputs": [],
   "source": [
    "#opening file contents\n",
    "\n",
    "input_fileob = open(\"romeoandjuliet.txt\", 'r') #generate a file object for reading\n",
    "file_contents = input_fileob.read().lower() #make all of the words lowercase to make sure it will work with our unique word list\n",
    "input_fileob.close() #closing file object for safety\n",
    "\n",
    "#To lower the risk of punctuation or special characters getting in the way strip the entire file down to just a word list\n",
    "\n",
    "dword_list = file_contents.split() #finds words, but they will have punctuation attatched to them\n",
    "\n",
    "clean_word_list = [word.replace('.',\"\").replace('!',\"\").replace('?',\"\").\n",
    "           replace(',',\"\").replace(';',\"\").replace(':',\"\").\n",
    "           replace(']',\"\").replace('[',\"\").replace(')',\"\").\n",
    "           replace('(',\"\").replace('-',\"\").replace('\"',\"\").replace(\"' \",\"\")\n",
    "           for word in dword_list]\n",
    "\n",
    "# now the manuscript is digested to just the words\n",
    "#print(clean_word_list)\n"
   ]
  },
  {
   "cell_type": "markdown",
   "metadata": {},
   "source": [
    "# Generate Dictionary of Unique Words"
   ]
  },
  {
   "cell_type": "code",
   "execution_count": 3,
   "metadata": {},
   "outputs": [],
   "source": [
    "#unique words list:\n",
    "\n",
    "un_words = set(clean_word_list)\n",
    "\n",
    "#making the dictionary:\n",
    "\n",
    "word_counts = {}\n",
    "for un_word in un_words:\n",
    "    count = clean_word_list.count(un_word)\n",
    "    word_counts[un_word] = count #now the unique words are keys and the counts are their values\n",
    "\n",
    "#Troubleshooted unique words within the list to make sure\n",
    "len(un_words) #3764\n",
    "len(clean_word_list) #25788\n",
    "\n",
    "#print(len(un_words)) = 3764  \n",
    "#print(len(clean_word_list = 25788\n",
    "\n",
    "for un_word, count in word_counts.items():\n",
    "    if count == 0:\n",
    "        print(str(un_word) + \" pops up: \" + str(count) + \" times.\" ) #prints nothing\n",
    "\n",
    "\n",
    "sum_of_counts = sum(word_counts.values())\n",
    "#print(sum_of_counts) = 25788 which equals the total word count"
   ]
  },
  {
   "cell_type": "markdown",
   "metadata": {},
   "source": [
    "# Generate Barplot:"
   ]
  },
  {
   "cell_type": "code",
   "execution_count": 4,
   "metadata": {
    "scrolled": true
   },
   "outputs": [
    {
     "data": {
      "text/plain": [
       "Text(0,0.5,'Times Words Used')"
      ]
     },
     "execution_count": 4,
     "metadata": {},
     "output_type": "execute_result"
    },
    {
     "data": {
      "image/png": "[encoded data removed]",
      "text/plain": [
       "<Figure size 432x288 with 1 Axes>"
      ]
     },
     "metadata": {},
     "output_type": "display_data"
    }
   ],
   "source": [
    "import matplotlib.pyplot as plt\n",
    "%matplotlib inline\n",
    "\n",
    "#Input data:\n",
    "word_stats_rj = plt.bar(range(len(word_counts.keys())),word_counts.values(), 20) \n",
    "plt.xlabel(\"Unique Words\") \n",
    "plt.ylabel(\"Times Words Used\")"
   ]
  },
  {
   "cell_type": "markdown",
   "metadata": {},
   "source": [
    "#### Analysis of Word Counts:  \n",
    "   \n",
    "\n"
   ]
  },
  {
   "cell_type": "code",
   "execution_count": 5,
   "metadata": {},
   "outputs": [
    {
     "name": "stdout",
     "output_type": "stream",
     "text": [
      "'a'(461),\n",
      "'and'(713),\n",
      "'i'(575),\n",
      "'in'(319),\n",
      "'is'(344),\n",
      "'my'(359),\n",
      "'of'(401),\n",
      "'that'(347),\n",
      "'the'(679),\n",
      "'to'(540),\n"
     ]
    }
   ],
   "source": [
    "#10 most common words:\n",
    "\n",
    "values_sort = sorted(word_counts.values())\n",
    "#print(values_sort) got a bunch of 1's; top 11 were 290, 319, 344, 347, 359, 401, 461, 540, 575, 679, 713\n",
    "\n",
    "for key,value in sorted(word_counts.items()): \n",
    "    if value > 290:\n",
    "        print(\"'\" + key + \"'\" + \"(\" + str(value) +\")\"+\",\")  \n",
    "\n",
    "used_once_list = []        \n",
    "for key,value in sorted(word_counts.items()): \n",
    "    if value < 2:\n",
    "        used_once_list.append(key)  \n",
    "\n",
    "#len(used_once_list) # =2087\n",
    "\n",
    "#print(used_once_list)\n",
    "\n",
    "        "
   ]
  },
  {
   "cell_type": "markdown",
   "metadata": {},
   "source": [
    "The most used words are 'and' (713), 'the' (680), 'I'(585), 'to'(541), 'a'(468), 'of'(401), 'my'(360), 'that'(347),'is'(344), and 'in'(319).\n",
    "\n",
    "There are 2,087 words that are used once that include abate, abbey, alliance, bak'd, beaten, catch'd, whoe'er, ect...  \n",
    "\n",
    "This makes sense because \n"
   ]
  },
  {
   "cell_type": "markdown",
   "metadata": {},
   "source": [
    "# Bonus:"
   ]
  },
  {
   "cell_type": "code",
   "execution_count": 21,
   "metadata": {},
   "outputs": [],
   "source": [
    "#Sort the dictionary according to decreasing word count:\n",
    "\n",
    "#turn dictionary into a list of tuples that contain ('word', count) \n",
    "\n",
    "des_list= sorted(word_counts.items(), key=lambda tup: tup[1], reverse=True)\n",
    "#The sorted function has many arguments: \n",
    "    #1. I set reverse to true so I could order in descending order.\n",
    "    #2. key defines the sort parameter, so I wrote lambda which generates an anonymus function which will accept one parameter \n",
    "    #   I define the parameter as tup and tell it to grab the second parameter of the tuple so it will order by count \n",
    "\n",
    "#seperated tuples into two lists wherein one contains words and the other contains counts, both in descending order\n",
    "words = []\n",
    "counts = []\n",
    "for word, count in des_list:\n",
    "    words.append(word)\n",
    "    counts.append(count)\n",
    "#I realized, now that all I needed to do is fetch the counts from the dict, order them in descending order, \n",
    "#then ploted them against the len(counts). But now I have a reference library :/ "
   ]
  },
  {
   "cell_type": "code",
   "execution_count": 14,
   "metadata": {},
   "outputs": [
    {
     "data": {
      "text/plain": [
       "<BarContainer object of 3764 artists>"
      ]
     },
     "execution_count": 14,
     "metadata": {},
     "output_type": "execute_result"
    },
    {
     "data": {
      "image/png": "[encoded data removed]",
      "text/plain": [
       "<Figure size 432x288 with 1 Axes>"
      ]
     },
     "metadata": {},
     "output_type": "display_data"
    }
   ],
   "source": [
    "import matplotlib.pyplot as plt\n",
    "%matplotlib inline\n",
    "\n",
    "words = []\n",
    "counts = []\n",
    "for word, count in des_list:\n",
    "    words.append(word)\n",
    "    counts.append(count)\n",
    "\n",
    "#Plot the word count vs.  the rank of the word\n",
    "x = counts\n",
    "y = range(0,len(counts))\n",
    "plt.xlabel(\"Times Words are Used\") \n",
    "plt.ylabel(\"Ranks of Unique Words\")\n",
    "plt.bar(x, y, width=10,)"
   ]
  },
  {
   "cell_type": "code",
   "execution_count": 22,
   "metadata": {},
   "outputs": [
    {
     "data": {
      "image/png": "[encoded data removed]",
      "text/plain": [
       "<Figure size 432x288 with 1 Axes>"
      ]
     },
     "metadata": {},
     "output_type": "display_data"
    }
   ],
   "source": [
    "import matplotlib.pyplot as plt\n",
    "%matplotlib inline\n",
    "words = []\n",
    "counts = []\n",
    "for word, count in des_list:\n",
    "    words.append(word)\n",
    "    counts.append(count)\n",
    "\n",
    "#Input data:\n",
    "x = counts\n",
    "y = range(0,len(counts))\n",
    "fig, ax = plt.subplots()\n",
    "ax.bar(x, y, width=1, log=True)\n",
    "ax.set_xscale(\"log\")\n",
    "plt.xlabel(\"Log Scale of Counts\") \n",
    "plt.ylabel(\"Log Scale of Rank\")\n",
    "plt.show()"
   ]
  },
  {
   "cell_type": "markdown",
   "metadata": {},
   "source": [
    "#### Interpretation:\n"
   ]
  },
  {
   "cell_type": "code",
   "execution_count": null,
   "metadata": {},
   "outputs": [],
   "source": []
  }
 ],
 "metadata": {
  "kernelspec": {
   "display_name": "Python 3",
   "language": "python",
   "name": "python3"
  },
  "language_info": {
   "codemirror_mode": {
    "name": "ipython",
    "version": 3
   },
   "file_extension": ".py",
   "mimetype": "text/x-python",
   "name": "python",
   "nbconvert_exporter": "python",
   "pygments_lexer": "ipython3",
   "version": "3.6.5"
  }
 },
 "nbformat": 4,
 "nbformat_minor": 2
}

{
 "cells": [
  {
   "cell_type": "markdown",
   "metadata": {},
   "source": [
    "# Read Alignment"
   ]
  },
  {
   "cell_type": "markdown",
   "metadata": {},
   "source": [
    "We will be using Illumina MiSeq reads from *Shewanella\toneidensis* bacterium to align to both a human and *S.\toneidensis* reference genome to filter contanminated reads, and generate a plot of coverage magnitudes and distribution.  "
   ]
  },
  {
   "cell_type": "markdown",
   "metadata": {},
   "source": [
    "## Alignments with bowtie2 in terminal:"
   ]
  },
  {
   "cell_type": "markdown",
   "metadata": {},
   "source": [
    "### Human Genome:    \n",
    "\n",
    "\n",
    "\n",
    "Wrote in Terminal:\n",
    "\n",
    "```~/Lab_6S bowtie2 -p 4 --very-fast --no-unal -x /data/hg19/hg19 -U /data/lab6/illumina_reads.fastq -S aligned/sooutput.sam --un sounaligned.fastq```\n",
    "> **Database used:** /data/hg19/hg19 <br>\n",
    "**Input reads:** /data/lab6/illumina_reads.fastq <br>\n",
    "**Output SAM file:** aligned/sooutput.sam <br>\n",
    "**sounaligned.fastq contains:** reads that did not align to the specified database, meaning these reads should be used for further analysis because they are not contaminated with human DNA. <br>\n",
    "\n",
    " **--very-fast** controls the balance between speed and sensitivity (detail). Can also input **--fast**, **--sensitive**, or \n",
    "**--very-sensitive as well**.\n",
    "\n",
    "**--no-unal** tells Bowtie to not report unaligned reads in the output SAM file, and saves space in output.\n",
    "    \n",
    "**-x** specifies path to database aligning reads to: in this case the hg19 genome \n",
    " \n",
    "**-U** specifies path to input reads in FASTQ format. Can also run paired-end reads by using the parameters **-1** and **-2**.\n",
    " \n",
    "**-S** specifies path to the output SAM file \n",
    "\n",
    "**--un** tells Bowtie place unaligned reads into a separate FASTQ file in the .\n",
    "\n",
    "\n",
    "\n",
    "\n",
    "Terminal returns:\n",
    "\n",
    "    1124714 reads; of these:\n",
    "    1124714 (100.00%) were unpaired; of these:\n",
    "        1028379 (91.43%) aligned 0 times\n",
    "        87274 (7.76%) aligned exactly 1 time\n",
    "        9061 (0.81%) aligned >1 times\n",
    "    8.57% overall alignment rate```\n",
    "    \n",
    "Therefore our sample was 8.57% contaminated with human genome.  \n"
   ]
  },
  {
   "cell_type": "markdown",
   "metadata": {},
   "source": [
    "### *S.\toneidensis* reference\tgenome\n",
    "\n",
    "Next we compared filtered reads in the sounaligned.fastq file to the *S. oneidensis* genome to check the quaility of the sequenceing.  \n",
    "\n",
    "Wrote the following code in terminal to align the S. oneidensis reads to a reference genome of the same bacterium: \n",
    "\n",
    "```~/Lab_6S bowtie2 -p 4 --very-fast --no-unal -x /data/lab6/shewanella_oneidensis_mr-1 -U sounaligned.fastq -S so_aligned/so_output.sam --un so_unaligned.fastq```\n",
    "\n",
    "> **Input database:** /data/lab6/shewanella_oneidensis_mr-1   \n",
    "**Input reads:** sounaligned.fastq <br> \n",
    "**Output SAM file:** so_aligned/so_output.sam <br> \n",
    "**\"so_unaligned.fastq\" contains:** reads that did not align to the reference genome that are either from errors in PCR, errors in sequencing, or due to potential contamination. <br>  \n",
    "\n",
    "\n",
    "Terminal returns:\n",
    "\n",
    "    1028379 reads; of these:\n",
    "      1028379 (100.00%) were unpaired; of these:\n",
    "        299560 (29.13%) aligned 0 times\n",
    "        687571 (66.86%) aligned exactly 1 time\n",
    "        41248 (4.01%) aligned >1 times\n",
    "    70.87% overall alignment rate\n",
    "\n",
    "29.13% of the filterd library did not align to the reference genome. If we used **--verysensitive** instead\tof\t**--very-fast** this percentage would likely decrease. "
   ]
  },
  {
   "cell_type": "markdown",
   "metadata": {},
   "source": [
    "### Analysis of alignments: \n",
    "\n",
    "Starting with 1,124,714 reads\n",
    "\n",
    "**Reads mapped to human genome:** 96,335 out of 1,124,714 when aligned\n",
    "\n",
    "**Reads mapped to *S. oneidensis* genome:** 728,819 out of 1,028,379 when aligned"
   ]
  },
  {
   "cell_type": "markdown",
   "metadata": {},
   "source": [
    "## Coverage Caluclation with samtools:"
   ]
  },
  {
   "cell_type": "markdown",
   "metadata": {},
   "source": [
    "**SAM file containing aligned reads:** Lab_6/so_aligned/so_output.sam\n",
    "\n",
    "**Convert:** We first converted our input SAM file, 'so_output.sam', to an output BAM file, 'so_output.bam', by using the samtools ```view``` command:  \n",
    "\n",
    "```samtools view –b so_output.sam > so_output.bam```\n",
    "\n",
    "> This prints specified files in specified formats (BAM, CRAM, BED), or if unspecified prints all alignments in the specified input file in SAM format. ```-b``` specifies the output will be in BAM format and is followed by input alignments path, ```>``` then the output file path.  \n",
    "\n",
    "<br>\n",
    "\n",
    "**Sort:** Next we sorted our input BAM file, 'so_output.bam', by the alignments leftmost chromosomal coordinates and saving as output file 'so_output.sorted.bam' by using the ```sort``` command:\n",
    "\n",
    "```samtools sort so_output.bam > so_output.sorted.bam```\n",
    "\n",
    "> This was done in an inflexible way by just specifying the input ```>``` output file names, and options like ```-n``` could be used to instead sort by name.  \n",
    "\n",
    "<br>\n",
    "\n",
    "**Index:** The sorted input 'so_output.sorted.bam' BAM file then had to be run through the command ```index```:\n",
    "\n",
    "```samtools index so_output.sorted.bam```\n",
    "\n",
    "> This command takes a specified sorted BAM or CRAM file and indexes it for fast random access. Since we did not specify a specific output file the input was indexed and saved in a BAI file called 'so_output.sorted.bam.bai' , which acts as an external table of contents for the BAM file and allows algorithms random access.\n",
    "\n",
    "<br>\n",
    "\n",
    "**Calculate depth of coverage:** Use ```depth``` command to\ttake the sorted BAM file with it's index BAI companion file to calculate the depth\tof\tcoverage for every position\tin\tthe\treference genome:\n",
    "\n",
    "```samtools depth –a so_output.sorted.bam > so_pileup.tab```\n",
    "\n",
    "> The ```–a``` parameter tells samtools to output zeroes for positions with no coverage \n",
    "\n",
    "**What is a TAB file?** \n",
    "\n",
    "Tab-delimited files are text files that are organized into rows and columns that uses two rwo punctuation riles to encode data: \n",
    "* Rows deliminated with newline character (```\\n```). Rows in the file contain data for the corresponding position of nt, starting with 1 \n",
    "\n",
    "* Within a row, columns are delimited by a single character (often ```\\t```). Columns are as follows: reference genome name, position index, number of reads alined there. \n"
   ]
  },
  {
   "cell_type": "markdown",
   "metadata": {},
   "source": [
    "## Results visualized with matplotlib"
   ]
  },
  {
   "cell_type": "markdown",
   "metadata": {},
   "source": [
    "Now to assess how well the sequencing went we need to visualize the coverage in a way that is informative."
   ]
  },
  {
   "cell_type": "markdown",
   "metadata": {},
   "source": [
    "### Scatterplot of reads over positons in *S. oneidensis* genome: "
   ]
  },
  {
   "cell_type": "code",
   "execution_count": 96,
   "metadata": {},
   "outputs": [
    {
     "data": {
      "image/png": "[encoded data removed]",
      "text/plain": [
       "<Figure size 432x288 with 1 Axes>"
      ]
     },
     "metadata": {
      "needs_background": "light"
     },
     "output_type": "display_data"
    }
   ],
   "source": [
    "import matplotlib.pyplot as plt\n",
    "import csv\n",
    "%matplotlib inline\n",
    "x_pos = []\n",
    "y_dep = []\n",
    "\n",
    "with open('so_pileup.tab','r') as csvfile:\n",
    "    plots = csv.reader(csvfile, delimiter='\\t')\n",
    "    for row in plots:\n",
    "        x_pos.append(int(row[1]))\n",
    "        y_dep.append(int(row[2]))        \n",
    "\n",
    "#Test that my function worked correctly by comparing the first 20 positions and depths to those in the opened TAB file\n",
    "#print(x_pos[:20]) = [1, 2, 3, 4, 5, 6, 7, 8, 9, 10, 11, 12, 13, 14, 15, 16, 17, 18, 19, 20]\n",
    "#print(y_dep[:20]) = [0, 1, 2, 2, 2, 2, 2, 2, 2, 2, 2, 2, 2, 2, 2, 2, 3, 3, 3, 3]\n",
    "\n",
    "#Load data into scatterplot:\n",
    "plt.plot(x_pos, y_dep,'r.')\n",
    "\n",
    "#Label scatterplot: \n",
    "plt.title(\"Read Depths of S. oneidensis Genome Positions\")  \n",
    "plt.xlabel(\"Nucleotide Position\") \n",
    "plt.ylabel(\"Depth of Coverage\")\n",
    "\n",
    "#show plot:\n",
    "plt.show() "
   ]
  },
  {
   "cell_type": "markdown",
   "metadata": {},
   "source": [
    "This scatterplot shows us that the genome seems to be covered fully, but there were a few sections that got an abnormally high amount of reads like just below 4000 kb and 5000 kb."
   ]
  },
  {
   "cell_type": "markdown",
   "metadata": {},
   "source": [
    "### Histogram of coverage depth distribution: "
   ]
  },
  {
   "cell_type": "code",
   "execution_count": 95,
   "metadata": {},
   "outputs": [
    {
     "data": {
      "image/png": "[encoded data removed]",
      "text/plain": [
       "<Figure size 432x288 with 1 Axes>"
      ]
     },
     "metadata": {
      "needs_background": "light"
     },
     "output_type": "display_data"
    }
   ],
   "source": [
    "import matplotlib.pyplot as plt\n",
    "\n",
    "#Load data into histogram: \n",
    "N, bins, patches = plt.hist(y_dep, bins= 90)\n",
    "\n",
    "#Made graph beautiful: \n",
    "import matplotlib.colors     \n",
    "\n",
    "fracs = N / N.max()\n",
    "#Colors depend on the height or number of objects in bin (N)\n",
    "\n",
    "norm = matplotlib.colors.Normalize(fracs.min(), fracs.max())\n",
    "#Uses matplotlib.colors to grab colors depending on fractions of the height\n",
    "\n",
    "for thisfrac, thispatch in zip(fracs, patches):\n",
    "    color = plt.cm.viridis(norm(thisfrac))\n",
    "    thispatch.set_facecolor(color)\n",
    "\n",
    "#Label Histogram: \n",
    "plt.title(\"Distribution of Coverage Depth over S. oneidensis Genome\")  \n",
    "plt.xlabel(\"Depth of Coverage\") \n",
    "plt.ylabel(\"Nucleotide Position\")\n",
    "\n",
    "#show plot:\n",
    "plt.show()"
   ]
  },
  {
   "cell_type": "code",
   "execution_count": 86,
   "metadata": {},
   "outputs": [
    {
     "name": "stdout",
     "output_type": "stream",
     "text": [
      "269\n",
      "0\n",
      "36.955644792125895\n"
     ]
    }
   ],
   "source": [
    "import statistics\n",
    "\n",
    "print(max(y_dep))\n",
    "#max = 269\n",
    "\n",
    "print(min(y_dep))\n",
    "#min = 0\n",
    "\n",
    "print(statistics.mean(y_dep))\n",
    "#mean= 36.956"
   ]
  },
  {
   "cell_type": "markdown",
   "metadata": {},
   "source": [
    "**What\tis\tthe\tmin, max, and mean coverage\tacross all positions?**\n",
    "\n",
    "The maximum is 269 reads, the minimum is 0, and the mean coverage is 36.956. This can be assertained by looking at the histogram  \n",
    "\n",
    "You can conclude that this was **not** a very successful seqeuncing attempt because: \n",
    "* the read depths are skewed to the left, meaning there was more weaker coverage than stronger coverage\n",
    "* the genome was more or less evenly covered except for two positions that were just below 4,000,000 and just below 5,000,000"
   ]
  },
  {
   "cell_type": "code",
   "execution_count": null,
   "metadata": {},
   "outputs": [],
   "source": []
  }
 ],
 "metadata": {
  "kernelspec": {
   "display_name": "Python 3",
   "language": "python",
   "name": "python3"
  },
  "language_info": {
   "codemirror_mode": {
    "name": "ipython",
    "version": 3
   },
   "file_extension": ".py",
   "mimetype": "text/x-python",
   "name": "python",
   "nbconvert_exporter": "python",
   "pygments_lexer": "ipython3",
   "version": "3.6.6"
  }
 },
 "nbformat": 4,
 "nbformat_minor": 2
}

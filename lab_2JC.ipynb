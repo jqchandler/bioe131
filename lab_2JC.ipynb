{
 "cells": [
  {
   "cell_type": "code",
   "execution_count": 94,
   "metadata": {},
   "outputs": [
    {
     "ename": "AttributeError",
     "evalue": "module 'Bio.Phylo' has no attribute 'tree'",
     "output_type": "error",
     "traceback": [
      "\u001b[0;31m---------------------------------------------------------------------------\u001b[0m",
      "\u001b[0;31mAttributeError\u001b[0m                            Traceback (most recent call last)",
      "\u001b[0;32m<ipython-input-94-7424324f1470>\u001b[0m in \u001b[0;36m<module>\u001b[0;34m()\u001b[0m\n\u001b[1;32m      1\u001b[0m \u001b[0mtree_parse\u001b[0m \u001b[0;34m=\u001b[0m \u001b[0mPhylo\u001b[0m\u001b[0;34m.\u001b[0m\u001b[0mparse\u001b[0m\u001b[0;34m(\u001b[0m\u001b[0;34m\"tree.nwk\"\u001b[0m\u001b[0;34m,\u001b[0m \u001b[0;34m\"newick\"\u001b[0m\u001b[0;34m)\u001b[0m\u001b[0;34m\u001b[0m\u001b[0m\n\u001b[1;32m      2\u001b[0m \u001b[0;34m\u001b[0m\u001b[0m\n\u001b[0;32m----> 3\u001b[0;31m \u001b[0mprint\u001b[0m\u001b[0;34m(\u001b[0m\u001b[0mPhylo\u001b[0m\u001b[0;34m.\u001b[0m\u001b[0mtree\u001b[0m\u001b[0;34m.\u001b[0m\u001b[0mget_terminal\u001b[0m\u001b[0;34m(\u001b[0m\u001b[0;34m)\u001b[0m\u001b[0;34m)\u001b[0m\u001b[0;34m\u001b[0m\u001b[0m\n\u001b[0m\u001b[1;32m      4\u001b[0m \u001b[0;34m\u001b[0m\u001b[0m\n",
      "\u001b[0;31mAttributeError\u001b[0m: module 'Bio.Phylo' has no attribute 'tree'"
     ]
    }
   ],
   "source": [
    "tree_parse = Phylo.parse(\"tree.nwk\", \"newick\")\n",
    "\n",
    "    \n"
   ]
  },
  {
   "cell_type": "code",
   "execution_count": 95,
   "metadata": {},
   "outputs": [],
   "source": [
    "from Bio import SeqIO\n",
    "from Bio.SeqRecord import SeqRecord\n",
    "from Bio.Seq import Seq"
   ]
  },
  {
   "cell_type": "code",
   "execution_count": 89,
   "metadata": {},
   "outputs": [
    {
     "name": "stdout",
     "output_type": "stream",
     "text": [
      " , hu.39\n",
      " |\n",
      " | rh.50\n",
      " |\n",
      " , rh.57\n",
      " |\n",
      " | rh.51\n",
      " |\n",
      " | rh.49\n",
      " |\n",
      "_, rh.53\n",
      " |\n",
      " | rh.64\n",
      " |\n",
      " , rh.61\n",
      " |\n",
      " |, rh.58\n",
      " ||\n",
      " ||                              , pi.2\n",
      " ||          ____________________|\n",
      " ||         |                    |, pi.3\n",
      " ||         |                    ||\n",
      " ||         |                     | pi.1\n",
      " ||         |\n",
      " ||         |           , rh.10\n",
      " ||        _|          ,|\n",
      " ||       | |          ||, bb.1\n",
      " ||       | |          |||\n",
      " ||       | |   _______| | bb.2\n",
      " ||       | |  |       |\n",
      " ||       | |  |       | _ hu.17\n",
      " ||       | |  |       ||\n",
      " ||       | |__|        | hu.6\n",
      " ||       |    |\n",
      " ||       |    |    ______ rh.2\n",
      " ||       |    |   |\n",
      " ||       |    |___|         __ rh.40\n",
      " ||       |        |        |\n",
      " ||       |        |________|, hu.67\n",
      " ||       |                 ||\n",
      " ||       |                 |, hu.37\n",
      " ||       |                  |\n",
      " ||       |                  |, hu.40\n",
      " ||       |                  ||\n",
      " ||       |                  || hu.66\n",
      " ||       |                  ||\n",
      " ||       |                   , hu.41\n",
      " ||       |                   |\n",
      " ||       |                   | rh.38\n",
      " ||       |                   |\n",
      " ||       |                   | hu.42\n",
      " ||       |\n",
      " ||_______|                                        , cy.3\n",
      " |        |                                        |\n",
      " |        |                          ______________, cy.6\n",
      " |        |                         |              |\n",
      " |        |                         |              | cy.4\n",
      " |        |                         |              |\n",
      " |        |                _________|              , cy.5\n",
      " |        |               |         |              |\n",
      " |        |               |         |              | rh.13\n",
      " |        |               |         |\n",
      " |        |               |         |       , rh.35\n",
      " |        |            ___|         |_______|\n",
      " |        |           |   |                 , rh.36\n",
      " |        |           |   |                 |\n",
      " |        |           |   |                 | rh.37\n",
      " |        |           |   |\n",
      " |        |           |   |         ______ cy.2\n",
      " |        |           |   |________|\n",
      " |        |           |            |     __ rh.54\n",
      " |        |    _______|            |____|\n",
      " |        |   |       |                 |      __ rh.55\n",
      " |        |   |       |                 |_____|\n",
      " |        |   |       |                       | , rh.48\n",
      " |        |   |       |                       |_|\n",
      " |        |   |       |                         | rh.62\n",
      " |        |   |       |\n",
      " |        |   |       |                                _ hu.43\n",
      " |        |   |       |_______________________________|\n",
      " |        |___|                                       | , hu.48\n",
      " |            |                                       |_|\n",
      " |            |                                         |      , hu.44\n",
      " |            |                                         |______|\n",
      " |            |                                                | hu.46\n",
      " |            |\n",
      " |            |                                                   _ hu.14\n",
      " |            |     _____________________________________________|\n",
      " |            |    |                                             |  , hu.31\n",
      " |            |____|                                             |__|\n",
      " |                 |                                                | hu.32\n",
      " |                 |\n",
      " |                 |_______________ rh.43\n",
      " |\n",
      " | rh.52\n",
      "\n"
     ]
    },
    {
     "data": {
      "image/png": "[encoded data removed]",
      "text/plain": [
       "<Figure size 432x288 with 1 Axes>"
      ]
     },
     "metadata": {},
     "output_type": "display_data"
    }
   ],
   "source": [
    "%matplotlib inline\n",
    "\n",
    "from Bio import Phylo\n",
    "\n",
    "tree = Phylo.read(\"tree.nwk\", \"newick\")\n",
    "\n",
    "Phylo.draw_ascii(tree, column_width=80)\n",
    "# print(str(tree)) not helpful\n",
    "Phylo.draw(tree)"
   ]
  },
  {
   "cell_type": "code",
   "execution_count": 73,
   "metadata": {},
   "outputs": [],
   "source": [
    "#get an arbitrary representitive taxon from following clusters: top cluster: hu.39, middle: bb.1, bottom: cy.2  \n",
    "#print sequences:\n",
    "my_recs = []\n",
    "for seq_rec in SeqIO.parse(\"seq.fa\", \"fasta\"):\n",
    "    my_recs.append(seq_rec)\n",
    "    \n",
    "\n"
   ]
  },
  {
   "cell_type": "code",
   "execution_count": 81,
   "metadata": {},
   "outputs": [
    {
     "name": "stdout",
     "output_type": "stream",
     "text": [
      "atggctgccgatggttatcttccagattggctcgaggacaacctctctgagggcattcgcgagtggtgggacctgaaacctggagccccgaaacccaaagccaaccagcaaaagcaggacgacggccggggtctggtgcttcctggctacaagtacctcggacccttcaacggactcgacaagggggagcccgtcaacgcggcggacgcagcggccctcgagcacgacaaggcctacgaccagcagctcaaagcgggtgacaatccgtacctgcggtataatcacgccgacgccgagtttcaggagcgtctgcaagaagatacgtcttttgggggcaacctcgggcgagcagtcttccaggccaagaagcgggttctcgaacctctcggtctggttgaggaaggcgctaagacggctcctggaaagaagagaccggtagagccgtcaccacagcgttcccccgactcctccacgggcatcggcaagaaaggccagcagcccgccagaaagagactcaatttcggtcggactggcgactcagagtcagtccccgaccctcaacctatcggagaacctccagcagcgccctctagtgtgggatctggtacaatggctgcaggcggtggcgcaccaatggcagacaataacgaaggtgccgacggagtgggtagttcctcgggaaattggcattgcgattccacatggctgggcgacagagttatcaccaccagcacccgaacctgggccctgcccacctacaacaaccacctctacaagcaaatctccaacgggacctcgggaggcagcaccaacgacaacacctactttggctacagcaccccctgggggtatcttgactttaacagattccactgccacttctcaccacgtgactggcagcgactcatcaacaacaactggggattccggcccaagagactcagcttcaagctcttcaacatccaggtcaaagaggtcacgcagaatgaaggcaccaagaccatcgccaataacctcgccagcaccatccaggtgtttacggactcggaataccagccgccgtacgtcctcggctctgcccaccagggctgcctgcctccgttcccggcggacgtcttcatgattcctcagtacggctacctgactctcaacaacggtagtcaggccgtgggacgttcctccttctactgcctggagtacttcccctctcagatgctgagaacgggcaacaacttttccttcagctacactttcgaggacgtgcctttccacagcagctacgcgcacagccagagtttggacaggctgatgaatcctctcatcgaccagtacctgtactacctgtcaagaacccagtctacgggaggcacagcgggaacccagcagttgctgttttctcgggccgggcctagcaacatgtcggctcaggccagaaactggctgcctggaccctgctacagacagcagcgcgtctccacgacactgtcgcaaaacaacaacagcaactttgcctggactggtgccaccaagtatcatctgaacggcagagactctctggtgaatccgggcgtcgccatggcaaccaacaaggacgacgaggaccgcttcttcccatccagcggcatcctcatgtttggcaagcagggagctggaaaagacaacgtggactatagcaacgtgatgctaaccagcgaggaagaaatcaagaccaccaaccccgtggccacagaacagtatggcgtggtggctgataacctacagcagcaaaacaccgctcctactgtgggggccgtcaacagccagggagccttacctggcatggtctggcagaaccgggacgtgtacctgcagggtcctatttgggccaagattcctcacacagatggcaactttcacccgtctcctttaatgggcggctttggacttaaacatccgcctcctcagatcctcatcaaaaacactcctgttcctgcggatcctccaacagcgttcaaccaggccaagctgaattctttcatcgcgcagtacagcaccggacaagtcagcgtggagatcgagtgggagctgcagaaggagaacagcaagcgctggaacccagagattcagtatacttccaactactacaaatctacaaatgcggactttgctgttaatactgagggtgtttactctgagcctcgccccattggcactcgttacctcacccgtaatctgtaa\n"
     ]
    }
   ],
   "source": [
    "print(my_recs[12].seq) #hu.39"
   ]
  },
  {
   "cell_type": "code",
   "execution_count": 78,
   "metadata": {},
   "outputs": [
    {
     "name": "stdout",
     "output_type": "stream",
     "text": [
      "atggctgccgatggttatcttccagattggctcgaggacaacctctctgagggcattcgcgagtggtgggcgctgaaacctggagccccgaagcccaaagccaaccagcaaaagcaggacgacggccggggtctggtgcttcctggctacaagtacctcggacccttcaacggactcgacaagggggagcccgtcaacgcggcggacgcagcggccctcgagcacgacaaggcctacgaccagcagctcaaagcgggtgacaatccgtacctgcggtataaccacgccgacgccgagtttcaggagcgtctgcaagaagatacgtcttttgggggcaacctcggacgagcagtcttccaggccaagaagcgggttctcgaacctctcggtctggttgaggaaggcgctaagacggctcctggaaagaagagaccggtagagccatcaccccagcgttctccagactccactacgggcatcggcaagaaaggccagcagcccgcgaaaaagagactcaactttgggcagactggcgactcagagtcagtgcccgaccctcaaccaatcggagaaccccccgcaggcccctctggtctgggatctggtacaatggctgcaggcggtggcgctccaatggcagacaataacgaaggcgccgacggagtgggtagttcctcaggaaattggcattgcgattccacatggctgggcgacagagtcatcaccaccagcacccgaacctgggccctccccacctacaacaaccacctctacaagcaaatctccaacgggacttcgggaggaagcaccaacgacaacacctacttcggctacagcaccccctgggggtattttgactttaacagattccactgccacttctcaccacgtgactggcagcgactcatcaacaacaactggggattccggcccaagagactcaacttcaagctcttcaacatccaggtcaaggaggtcacgcagaatgaaggcaccaagaccatcgccaataaccttaccagcacgattcaggtctttacggactcggaataccagctcccgtacgtcctcggctctgcgcgccagggctgcctgcctccgttcccggcggacgtcttcatgattcctcagtacgggtacctgactctgaacaatggcagtcaggccgtgggccgttcctccttctactgcctggagtactttccttctcaaatgctgagaacgggcaacaactttgagttcagctaccagtttgaggacgtgccttttcacagcagctacgcgcacagccaaagcctggaccggctgatgaaccccctcatcgaccagtacctgtactacctgtctcggactcagtccacgggaggtaccgcaggaactcagcagttgctattttctcaggccgggcctaataacatgtcggctcaggccaaaaactggctacccgggccctgctaccggcagcaacgcgtctccacgacactgtcgcaaaataacaacagcaactttgcctggaccggtgccaccaagtatcatctgaatggcagagactctctggtaaatcccggtgtcgctatggcaacccacaaggacgacgaagagcgattttttccgtccagcggagtcttaatgtttgggaaacagggagctggaaaaggcaacgtggactatagcagcgttatgctaaccagtgaggaagaaattaaaaccaccaacccagtggccacagaacagtacggcgtggtggccgataacctgcaacagcaaaacgccgctcctattgtaggggccgtcaacagtcaaggagccttacctggcatggtctggcagaaccgggacgtgtacctgcagggtcctatctgggccaagattcctcacacggacggaaactttcatccctcgccgctgatggggggctttggactgaaacacccgcctcctcagatcctgattaagaatacacctgttcccgcggatcctccaactaccttcagtcaagctaagctggcgtcgttcatcacgcagtacagcaccggacaggtcagcgtggaaattgaatgggagctgcagaaagaaaacagcaaacgctggaacccagagattcaatacacttccaactactacaaatctacaaatgtggactttgctgttaacacagatggcacttattctgagcctcgccccatcggcacccgttacctcacccgtaatctgtaa\n"
     ]
    }
   ],
   "source": [
    "print(my_recs[0].seq) #bb.1"
   ]
  },
  {
   "cell_type": "code",
   "execution_count": 80,
   "metadata": {},
   "outputs": [
    {
     "name": "stdout",
     "output_type": "stream",
     "text": [
      "atggctgccgatggttatcttccagattggctcgaggacaacctctctgagggcattcgcgagtggtgggacctgaaacctggagccccgaaacccaaagccaaccagcaaaagcaggacaacggccggggtctggtgcttcctggctacaagtacctcggacccttcaacggactcgacaagggggagcccgtcaacgcggcggacgcagcggccctcgagcacgacaaggcctacgaccagcagctcaatgcgggtgacaacccgtacctgcggtataaccacgccgacgccgagtttcaggagcgtctgcaagaagatacgtcatttgggggcaacctcgggcgagcagtcttccaggccaagaagcgggttctcgaacctctcggtctggttgaggaaggcgctaagacggctcctgcaaagaagagaccggtagagccgtcacctcagcgttcccccgactcctccacgggcatcggcaagaagggccagcagcccgccagaaagagactcaatttcggtcagactggcgactcagagtcagtccccgaccctcaacctctcggagaacctccagcagcgccctctagtgtgggatctggtacagtggctgcaggcggtggcgcaccaatggcagacaataacgaaggtgccgacggagtgggtaatgcctcaggaaattggcattgcgattccacatggctgggcgacagagtcattaccaccagcacccgaacctgggccctgcccacctacaacaaccacctctacgagcaaatctccagtgaaactgcaggtagtaccaacgacaacacctacttcggctacagcaccccctgggggtattttgactttaacagattccactgccacttctcaccacgtgactggcagcgactcatcaacaacaactggggattccggcccaagaagctgcggttcaagctcttcaacatccaggtcaaggaggtcacgacgaatgacggcgttacgaccatcgctaataaccttaccagcacgattcaggtattctcggactcggaataccagctgccgtacgtcctcggctctgcgcaccagggctgcctgcctccgttcccggcggacgtcttcatgattcctcagtacggctacctgactctcaacaatggcagtcagtctgtgggacgttcctccttctactgcctggagtacttcccctctcagatgctgagaacgggcaacaactttgagttcagctacagcttcgaggacgtgcctttccacagcagctacgcacacagccagagcctggaccggctgatgaatcccctcatcgaccagtacttgtactacctggccagaacacagagtgacccaggaggcacagctggcaatcgggaactgcagttttaccagggcgggccttcaactatggccgaacaagccaagaattggttacctggaccctgcttccggcaacaaagggtctccaaaacgctggatcaaaacaacaacagcaactttgcttggactggtgccaccaaatatcacctgaacggcagaaactcgttggttaatcccggcgtcgccatggcaactcacaaggacgacgaggaccgctttttcccatccagcggagtcctgatttttggaaaaactggagcaactaacaaaactacattggaaaatgtgttaatgacaaatgaagaagaaattcgtcctactaatcctgtagccacggaagaatacgggatagtcagcagcaacttacaagcggctaatactgcagcccagacacaagttgtcaacaaccagggagccttacctggcatggtctggcagaaccgggacgtgtacctgcagggtcccatctgggccaagattcctcacacggatggcaactttcacccgtctcctttgatgggcggctttggacttaaacatccgcctcctcagatcctgatcaagaacactcccgttcccgctaatcctccggaggtgtttactcctgccaagtttgcttcgttcatcacacagtacagcaccggacaagtcagcgtggaaatcgagtgggagctgcagaaggaaaacagcaagcgctgggacccggagattcagtacacctccaactttgaaaagcagactggtgtggactttgccgttgacagccagggtgtttactctgagcctcgccctattggcactcgttacctcacccgtaatctgtaa\n"
     ]
    }
   ],
   "source": [
    "print(my_recs[2].seq) #cy.2"
   ]
  },
  {
   "cell_type": "code",
   "execution_count": 82,
   "metadata": {},
   "outputs": [],
   "source": [
    "#calculate at content of aligned sequences\n",
    "aseqs= \"seq.aligned.fa\"\n",
    "alignedseq = []\n",
    "for seq in SeqIO.parse(\"seq.aligned.fa\", \"fasta\"):\n",
    "    alignedseq.append(seq)\n",
    "    "
   ]
  },
  {
   "cell_type": "code",
   "execution_count": 105,
   "metadata": {},
   "outputs": [],
   "source": [
    "#cluster sequences into clade groups\n",
    "\n",
    "#clades indexed top to bottom\n",
    "topcluster = [\"hu.39\", \"rh.50\", \"rh.57\",\"rh.51\", 'rh.49', \"rh.53\", 'rh.64', \"rh.61\", 'rh.58']\n",
    "middlecluster = ['pi.2', 'pi.3', 'pi.1', 'rh.10', 'bb.1', 'bb.2', 'hu.17', 'hu.6', 'rh.2', 'rh.40', 'hu.67', 'hu.37', 'hu.40', 'hu.66', 'hu.41', 'rh.38', 'hu.42']\n",
    "bottomcluster= ['cy.3', 'cy.6', 'cy.4', 'cy.5', 'rh.13', 'rh.35', 'rh.36', 'rh.37', 'cy.2', 'rh.54', 'rh.55', 'rh.48', 'rh.62', 'hu.43', 'hu.48', 'hu.44', 'hu.46', 'hu.14', 'hu.31', 'hu.32', 'rh.43', 'rh.52']"
   ]
  },
  {
   "cell_type": "code",
   "execution_count": 127,
   "metadata": {},
   "outputs": [
    {
     "data": {
      "text/plain": [
       "0.0"
      ]
     },
     "execution_count": 127,
     "metadata": {},
     "output_type": "execute_result"
    }
   ],
   "source": [
    "#define function for calculating AT and GC content\n",
    "#clades indexed top to bottom\n",
    "topcluster = [\"hu.39\", \"rh.50\", \"rh.57\",\"rh.51\", 'rh.49', \"rh.53\", 'rh.64', \"rh.61\", 'rh.58']\n",
    "middlecluster = ['pi.2', 'pi.3', 'pi.1', 'rh.10', 'bb.1', 'bb.2', 'hu.17', 'hu.6', 'rh.2', 'rh.40', 'hu.67', 'hu.37', 'hu.40', 'hu.66', 'hu.41', 'rh.38', 'hu.42']\n",
    "bottomcluster= ['cy.3', 'cy.6', 'cy.4', 'cy.5', 'rh.13', 'rh.35', 'rh.36', 'rh.37', 'cy.2', 'rh.54', 'rh.55', 'rh.48', 'rh.62', 'hu.43', 'hu.48', 'hu.44', 'hu.46', 'hu.14', 'hu.31', 'hu.32', 'rh.43', 'rh.52']\n",
    "dictofsamples = SeqIO.to_dict(SeqIO.parse(\"seq.aligned.fa\", \"fasta\"))\n",
    "\n",
    "def at_content(listofsamples, position_num):\n",
    "    count = 0\n",
    "    length = len(listofsamples)\n",
    "    for name in listofsamples:\n",
    "        temp = dictofsamples[name].seq\n",
    "        if temp[position_num] == 'A' or temp[position_num] == 'T':\n",
    "            count += 1\n",
    "    return count / length\n",
    "\n",
    "def gc_content(listofsamples, position_num):\n",
    "    return 1 - at_content(listofsamples, position_num)\n",
    "\n",
    "at_content(topcluster, 0)\n",
    "at_content(topcluster, 3)\n",
    "#at_content(bottomcluster, 10)\n",
    "\n"
   ]
  },
  {
   "cell_type": "code",
   "execution_count": 132,
   "metadata": {},
   "outputs": [],
   "source": [
    "#generate data\n",
    "pos_list= range(1,len(dictofsamples[\"hu.39\"].seq))\n",
    "\n",
    "#Top Cluster\n",
    "pat_top= [at_content(topcluster, x) for x in pos_list]\n",
    "pgc_top = [gc_content(topcluster, x) for x in pos_list]\n",
    "\n",
    "#Middle Cluster\n",
    "pat_middle = [at_content(middlecluster, x) for x in pos_list]\n",
    "pgc_middle = [gc_content(middlecluster, x) for x in pos_list]\n",
    "\n",
    "#Bottom Cluster\n",
    "pat_bottom = [at_content(bottomcluster, x) for x in pos_list]\n",
    "pgc_bottom = [gc_content(bottomcluster, x) for x in pos_list]\n",
    "\n",
    "\n"
   ]
  },
  {
   "cell_type": "code",
   "execution_count": null,
   "metadata": {},
   "outputs": [],
   "source": [
    "import matplotlib.pyplot as plt\n",
    "%matplotlib inline\n",
    "#generate barplot\n",
    "\n",
    "#Top Cluster\n",
    "line_out = plt.bar ()\n",
    "\n",
    "#Middle Cluster\n",
    "\n",
    "\n",
    "#Bottom Cluster\n"
   ]
  }
 ],
 "metadata": {
  "kernelspec": {
   "display_name": "Python 3",
   "language": "python",
   "name": "python3"
  },
  "language_info": {
   "codemirror_mode": {
    "name": "ipython",
    "version": 3
   },
   "file_extension": ".py",
   "mimetype": "text/x-python",
   "name": "python",
   "nbconvert_exporter": "python",
   "pygments_lexer": "ipython3",
   "version": "3.5.2"
  }
 },
 "nbformat": 4,
 "nbformat_minor": 2
}
